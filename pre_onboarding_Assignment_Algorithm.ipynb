{
  "nbformat": 4,
  "nbformat_minor": 0,
  "metadata": {
    "colab": {
      "name": "Assignment_Algorithm.ipynb",
      "provenance": [],
      "collapsed_sections": []
    },
    "kernelspec": {
      "name": "python3",
      "display_name": "Python 3"
    },
    "language_info": {
      "name": "python"
    }
  },
  "cells": [
    {
      "cell_type": "markdown",
      "source": [
        "##문자열 매칭 알고리즘 구현\n",
        "문자열 집합 S가 존재한다 \n",
        "\n",
        "ex) S = {\"www\",\"xman\",\"yman\"}. 임의의 문자열이 N개 주어졌\n",
        "을때 각 임의의 문자열 내에 집합 S에 속하는 문자열이 존재하는지 판별하시오.\n",
        "\n",
        "<br/> \n",
        "\n",
        "아래의 문제를 순서대로 작성하세요. 1번만 푸셔도 됩니다.\n",
        "\n",
        "1. 문자열의 여러 부분 문자열 중 하나라도 집합 S에 있으면 'YES'를 출력하고, 아무것도\n",
        "없으면 'NO'를 출력한다.\n",
        "2. 주어진 문자열의 여러부분 문자열 중 처음 매칭된 패턴과 문자열 시작 포지션을 출력한다.\n",
        "3. 주어진 문자열의 여러부분 문자열 중 매칭 가능한 모든 패턴과 문자열 시작 포지션을 출\n",
        "력한다. \n",
        "\n",
        "\n",
        "###입력\n",
        "첫째 줄에 집합 S의 크기 N이 주어진다. (1 ≤ N ≤ 1000)  \n",
        "다음 N개 줄에 집합 S의 원소들이 주어진다. 이 문자열의 길이는 100을 넘지 않는다.  \n",
        "다음 줄에 답을 판별해야 하는 문자열의 개수 Q가 주어진다. (1 ≤ Q ≤ 1000)  \n",
        "다음 Q개 줄에 답을 판별해야 하는 문자열이 주어진다. 이 문자열의 길이는 10000을 넘지\n",
        "않는다.  \n",
        "입력으로 주어지는 모든 문자열은 알파벳 소문자로만 이루어져 있다.\n",
        "\n",
        "출력\n",
        "Q개 줄에 각 문자열에 대한 답을 출력한다.  \n",
        "\n",
        "<br/> \n",
        "###예제 입력\n",
        "\n",
        "\n",
        "```\n",
        "9(문자열 집합S의 원소 개수)\n",
        "\"aaa\",\"\"aaaabb\", \"\"aabbcc\", \"abb\", \"bcc\", \"bbcc\", \"aabbccdd\", \"aaabb”, “cccd”\n",
        "(comma, new line 구분은 자유)\n",
        "1(매칭 대상 문자열 수)\n",
        "\"aaaabbaabbccdd\"\n",
        "```\n",
        "<br/> \n",
        "\n",
        " \n",
        "###예제 출력\n",
        "\n",
        "출력형식은 무관합니다.\n",
        "\n",
        "1. 문자열 집합 중 “cccd”만 주어진 문자열의 부분 문자열에 속하지 않으므로 YES, YES,\n",
        "YES, YES, YES, YES, YES, YES, NO 이다.\n",
        "2. 아래와같이 첫번째로 매칭된 패턴의 시작포지션과 문자열 패턴을 출력한다.\n",
        "* pos = 0, pattern = aaa\n",
        "* pos = 0, pattern = aaaabb\n",
        "* pos = 6, pattern = aabbcc\n",
        "* pos = 3, pattern = abb\n",
        "* pos = 9, pattern = bcc\n",
        "* pos = 8, pattern = bbcc\n",
        "* pos = 6, pattern = aabbccdd\n",
        "* pos = 1, pattern = aaabb\n",
        "3. 아래와같이 가능한 모든 문자열 패턴의 시작 포지션과 문자열 패턴을 출력한다.\n",
        "* pos = 0, pattern = aaa\n",
        "* pos = 1, pattern = aaa\n",
        "* pos = 1, pattern = aaabb\n",
        "* pos = 3, pattern = abb\n",
        "* pos = 0, pattern = aaaabb\n",
        "* pos = 7, pattern = abb\n",
        "* pos = 8, pattern = bbcc\n",
        "* pos = 9, pattern = bcc\n",
        "* pos = 6, pattern = aabbcc\n",
        "* pos = 6, pattern = aabbccdd"
      ],
      "metadata": {
        "id": "Xc_vJ8wDMFTr"
      }
    },
    {
      "cell_type": "markdown",
      "source": [
        "###문제1번"
      ],
      "metadata": {
        "id": "QsxMif7S297I"
      }
    },
    {
      "cell_type": "code",
      "source": [
        "#문제 1번\n",
        "def first(t, p):\n",
        "    n = len(t)\n",
        "    # 결과값 리스트\n",
        "    ret = []\n",
        "    # pi[i]는 N[~i]의 접두사도 되고 접미사는 되는 문자열의 최대 길이\n",
        "    for pat in p :\n",
        "      pi = getPartialMatch(pat)\n",
        "      begin = 0\n",
        "      matched = 0\n",
        "      m = len(pat)\n",
        "      while begin <= n - m:\n",
        "      # 글자가 일치한다면\n",
        "        if matched < m and t[begin + matched] == pat[matched]:\n",
        "          matched += 1\n",
        "      # m글자가 모두 일치한다면\n",
        "          if matched == m:\n",
        "            ret.append('YES')\n",
        "            break\n",
        "        elif begin == n - m:\n",
        "            ret.append('NO')\n",
        "            break\n",
        "        else:\n",
        "        # matched가 0인 경우 다음 칸에서 시작\n",
        "          if matched == 0:\n",
        "            begin += 1\n",
        "          else:\n",
        "            begin += matched - pi[matched - 1]\n",
        "            matched = pi[matched - 1]\n",
        "\n",
        "    return ret\n",
        "\n",
        "def getPartialMatch(p):\n",
        "    m = len(p)\n",
        "    pi = [0] * m\n",
        "    # KMP로 N에서 N을 찾는다 (begin은 1부터)\n",
        "    begin = 1\n",
        "    matched = 0\n",
        "    # 비교할 문자가 N의 끝에 도달할 때까지 부분 일치를 모두 기록\n",
        "    while begin + matched < m:\n",
        "      if p[begin + matched] == p[matched]:\n",
        "        matched += 1\n",
        "        pi[begin + matched - 1] = matched\n",
        "      else:\n",
        "        if matched == 0:\n",
        "          begin += 1\n",
        "        else:\n",
        "          begin += matched - pi[matched - 1]\n",
        "          matched = pi[matched - 1]\n",
        "    return pi\n",
        "\n",
        "# 찾을 패턴 (target)\n",
        "p = [\"aaa\",\"aaaabb\", \"aabbcc\", \"abb\", \"bcc\", \"bbcc\", \"aabbccdd\", \"aaabb\", \"cccd\"]\n",
        "# 전체 텍스트 \n",
        "t = 'aaaabbaabbccdd'\n",
        "first(t, p)"
      ],
      "metadata": {
        "colab": {
          "base_uri": "https://localhost:8080/"
        },
        "id": "dY0TZwAHMtz8",
        "outputId": "e495e66e-8a25-4dea-b37f-35ded0a357ec"
      },
      "execution_count": null,
      "outputs": [
        {
          "output_type": "execute_result",
          "data": {
            "text/plain": [
              "['YES', 'YES', 'YES', 'YES', 'YES', 'YES', 'YES', 'YES', 'NO']"
            ]
          },
          "metadata": {},
          "execution_count": 75
        }
      ]
    },
    {
      "cell_type": "markdown",
      "source": [
        "###문제2번"
      ],
      "metadata": {
        "id": "fF_HDkPi3ACL"
      }
    },
    {
      "cell_type": "code",
      "source": [
        "#문제 2번\n",
        "def second(t, p):\n",
        "    n = len(t)\n",
        "    # 결과값 리스트\n",
        "    ret = []\n",
        "    # pi[i]는 N[~i]의 접두사도 되고 접미사는 되는 문자열의 최대 길이\n",
        "    for pat in p :\n",
        "      pi = getPartialMatch(pat)\n",
        "      begin = 0\n",
        "      matched = 0\n",
        "      m = len(pat)\n",
        "      while begin <= n - m:\n",
        "      # 글자가 일치한다면\n",
        "        if matched < m and t[begin + matched] == pat[matched]:\n",
        "          matched += 1\n",
        "      # m글자가 모두 일치한다면\n",
        "          if matched == m:\n",
        "            ret.append([begin,pat])\n",
        "            break\n",
        "        else:\n",
        "        # matched가 0인 경우 다음 칸에서 시작\n",
        "          if matched == 0:\n",
        "            begin += 1\n",
        "          else:\n",
        "            begin += matched - pi[matched - 1]\n",
        "            matched = pi[matched - 1]\n",
        "    for k,v in ret:\n",
        "      print(\"pos=\",k,\",\",\"patten=\",v)\n",
        "    #return ret\n",
        "\n",
        "def getPartialMatch(p):\n",
        "    m = len(p)\n",
        "    pi = [0] * m\n",
        "    # KMP로 N에서 N을 찾는다 (begin은 1부터)\n",
        "    begin = 1\n",
        "    matched = 0\n",
        "    # 비교할 문자가 N의 끝에 도달할 때까지 부분 일치를 모두 기록\n",
        "    while begin + matched < m:\n",
        "      if p[begin + matched] == p[matched]:\n",
        "        matched += 1\n",
        "        pi[begin + matched - 1] = matched\n",
        "      else:\n",
        "        if matched == 0:\n",
        "          begin += 1\n",
        "        else:\n",
        "          begin += matched - pi[matched - 1]\n",
        "          matched = pi[matched - 1]\n",
        "    return pi\n",
        "\n",
        "# 찾을 패턴 (target)\n",
        "p = [\"aaa\",\"aaaabb\", \"aabbcc\", \"abb\", \"bcc\", \"bbcc\", \"aabbccdd\", \"aaabb\", \"cccd\"]\n",
        "# 전체 텍스트 \n",
        "t = 'aaaabbaabbccdd'\n",
        "second(t, p)"
      ],
      "metadata": {
        "colab": {
          "base_uri": "https://localhost:8080/"
        },
        "id": "HglAACjFL_bL",
        "outputId": "818f3bb4-aa77-477a-a8a9-371ffba8e612"
      },
      "execution_count": null,
      "outputs": [
        {
          "output_type": "stream",
          "name": "stdout",
          "text": [
            "pos= 0 , patten= aaa\n",
            "pos= 0 , patten= aaaabb\n",
            "pos= 6 , patten= aabbcc\n",
            "pos= 3 , patten= abb\n",
            "pos= 9 , patten= bcc\n",
            "pos= 8 , patten= bbcc\n",
            "pos= 6 , patten= aabbccdd\n",
            "pos= 1 , patten= aaabb\n"
          ]
        }
      ]
    },
    {
      "cell_type": "markdown",
      "source": [
        "###문제3번"
      ],
      "metadata": {
        "id": "jtNbhK58-Iai"
      }
    },
    {
      "cell_type": "code",
      "source": [
        "#문제 3번\n",
        "def kmpSearch(t, p):\n",
        "    n = len(t)\n",
        "    # 결과값 리스트\n",
        "    ret = []\n",
        "    # pi[i]는 N[~i]의 접두사도 되고 접미사는 되는 문자열의 최대 길이\n",
        "    for pat in p :\n",
        "      pi = getPartialMatch(pat)\n",
        "      begin = 0\n",
        "      matched = 0\n",
        "      m = len(pat)\n",
        "      while begin <= n - m:\n",
        "      # 글자가 일치한다면\n",
        "        if matched < m and t[begin + matched] == pat[matched]:\n",
        "          matched += 1\n",
        "      # m글자가 모두 일치한다면\n",
        "          if matched == m:\n",
        "            ret.append([begin,pat])\n",
        "        else:\n",
        "        # matched가 0인 경우 다음 칸에서 시작\n",
        "          if matched == 0:\n",
        "            begin += 1\n",
        "          else:\n",
        "            begin += matched - pi[matched - 1]\n",
        "            matched = pi[matched - 1]\n",
        "    for k,v in ret:\n",
        "      print(\"pos=\",k,\",\",\"patten=\",v)\n",
        "    #return ret\n",
        "\n",
        "def getPartialMatch(p):\n",
        "    m = len(p)\n",
        "    pi = [0] * m\n",
        "    # KMP로 N에서 N을 찾는다 (begin은 1부터)\n",
        "    begin = 1\n",
        "    matched = 0\n",
        "    # 비교할 문자가 N의 끝에 도달할 때까지 부분 일치를 모두 기록\n",
        "    while begin + matched < m:\n",
        "      if p[begin + matched] == p[matched]:\n",
        "        matched += 1\n",
        "        pi[begin + matched - 1] = matched\n",
        "      else:\n",
        "        if matched == 0:\n",
        "          begin += 1\n",
        "        else:\n",
        "          begin += matched - pi[matched - 1]\n",
        "          matched = pi[matched - 1]\n",
        "    return pi\n",
        "\n",
        "# 찾을 패턴 (target)\n",
        "p = [\"aaa\",\"aaaabb\", \"aabbcc\", \"abb\", \"bcc\", \"bbcc\", \"aabbccdd\", \"aaabb\", \"cccd\"]\n",
        "# 전체 텍스트 \n",
        "t = 'aaaabbaabbccdd'\n",
        "kmpSearch(t, p)"
      ],
      "metadata": {
        "colab": {
          "base_uri": "https://localhost:8080/"
        },
        "id": "Jukx51-5Bt6J",
        "outputId": "cb7e8384-9743-4541-a38a-fd229bf632c6"
      },
      "execution_count": null,
      "outputs": [
        {
          "output_type": "stream",
          "name": "stdout",
          "text": [
            "pos= 0 , patten= aaa\n",
            "pos= 1 , patten= aaa\n",
            "pos= 0 , patten= aaaabb\n",
            "pos= 6 , patten= aabbcc\n",
            "pos= 3 , patten= abb\n",
            "pos= 7 , patten= abb\n",
            "pos= 9 , patten= bcc\n",
            "pos= 8 , patten= bbcc\n",
            "pos= 6 , patten= aabbccdd\n",
            "pos= 1 , patten= aaabb\n"
          ]
        }
      ]
    }
  ]
}